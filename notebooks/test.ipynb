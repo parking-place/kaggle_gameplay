{
 "cells": [
  {
   "cell_type": "code",
   "execution_count": null,
   "metadata": {},
   "outputs": [],
   "source": [
    "DATA_PATH = r'/home/parking/ml/data/data/kaggle/predict-student-performance-from-game-play/'\n",
    "\n",
    "TRAIN_PATH = DATA_PATH + 'train.csv'\n",
    "TRAIN_LABEL_PATH = DATA_PATH + 'train_label.csv'\n",
    "TEST_PATH = DATA_PATH + 'test.csv'\n",
    "\n",
    "import torch\n",
    "\n",
    "DEVICE = 'cuda' if torch.cuda.is_available() else 'cpu'"
   ]
  }
 ],
 "metadata": {
  "language_info": {
   "name": "python"
  },
  "orig_nbformat": 4
 },
 "nbformat": 4,
 "nbformat_minor": 2
}
